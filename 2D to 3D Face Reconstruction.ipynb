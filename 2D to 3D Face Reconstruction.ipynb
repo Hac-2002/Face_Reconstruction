{
 "cells": [
  {
   "cell_type": "code",
   "execution_count": null,
   "id": "b7b6d936",
   "metadata": {},
   "outputs": [],
   "source": [
    "!pip install torch torchvision torchaudio\n",
    "!pip install tensorflow\n",
    "!pip install \"modelscope[cv]\" -f https://modelscope.oss-cn-beijing.aliyuncs.com/releases/repo.html\n",
    "!pip install git+https://github.com/NVlabs/nvdiffrast.git\n",
    "!pip install git+https://github.com/facebookresearch/pytorch3d.git "
   ]
  },
  {
   "cell_type": "code",
   "execution_count": null,
   "id": "57492055",
   "metadata": {},
   "outputs": [],
   "source": [
    "import os\n",
    "import cv2\n",
    "from moviepy.editor import ImageSequenceClip\n",
    "from modelscope.models.cv.face_reconstruction.utils import write_obj\n",
    "from modelscope.outputs import OutputKeys\n",
    "from modelscope.pipelines import pipeline\n",
    "from modelscope.utils.constant import Tasks\n",
    "\n",
    "face_reconstruction = pipeline(Tasks.face_reconstruction, model='damo/cv_resnet50_face-reconstruction', model_revision='v2.0.0-HRN')"
   ]
  },
  {
   "cell_type": "code",
   "execution_count": null,
   "id": "67fea0e6",
   "metadata": {},
   "outputs": [],
   "source": [
    "def save_results(result, save_root):\n",
    "    os.makedirs(save_root, exist_ok=True)\n",
    "\n",
    "    # export obj and texture\n",
    "    mesh = result[OutputKeys.OUTPUT]['mesh']\n",
    "    texture_map = result[OutputKeys.OUTPUT_IMG]\n",
    "    mesh['texture_map'] = texture_map\n",
    "    write_obj(os.path.join(save_root, 'hrn_mesh_mid.obj'), mesh)\n",
    "\n",
    "    # export rotation video\n",
    "    frame_list = result[OutputKeys.OUTPUT]['frame_list']\n",
    "    video = ImageSequenceClip(sequence=frame_list, fps=30)\n",
    "    video.write_videofile(\n",
    "        os.path.join(save_root, 'rotate.mp4'), fps=30, audio=False)\n",
    "    del frame_list\n",
    "\n",
    "    # save visualization image\n",
    "    vis_image = result[OutputKeys.OUTPUT]['vis_image']\n",
    "    cv2.imwrite(os.path.join(save_root, 'vis_image.jpg'), vis_image)\n",
    "\n",
    "    print(f'Output written to {os.path.abspath(save_root)}')\n",
    "\n",
    "result = face_reconstruction('00002.jpg')\n",
    "save_results(result, './face_reconstruction_results')"
   ]
  },
  {
   "cell_type": "code",
   "execution_count": null,
   "id": "f5cca2b4",
   "metadata": {},
   "outputs": [],
   "source": [
    "from matplotlib import pyplot as plt\n",
    "def vis_img(path):\n",
    "  img = cv2.imread(path,-1)\n",
    "  plt.imshow(img[..., ::-1])\n",
    "  plt.axis(\"off\")\n",
    "  plt.show()\n",
    "\n",
    "vis_img('./face_reconstruction_results/vis_image.jpg')"
   ]
  }
 ],
 "metadata": {
  "kernelspec": {
   "display_name": "Python 3 (ipykernel)",
   "language": "python",
   "name": "python3"
  },
  "language_info": {
   "codemirror_mode": {
    "name": "ipython",
    "version": 3
   },
   "file_extension": ".py",
   "mimetype": "text/x-python",
   "name": "python",
   "nbconvert_exporter": "python",
   "pygments_lexer": "ipython3",
   "version": "3.9.12"
  }
 },
 "nbformat": 4,
 "nbformat_minor": 5
}
